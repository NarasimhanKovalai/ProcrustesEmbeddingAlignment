{
  "cells": [
    {
      "cell_type": "markdown",
      "metadata": {
        "id": "jaHirbsK65o6"
      },
      "source": []
    },
    {
      "cell_type": "code",
      "execution_count": null,
      "metadata": {
        "colab": {
          "base_uri": "https://localhost:8080/"
        },
        "id": "x8qF8NkCVIas",
        "outputId": "14679743-753a-4dba-8d16-707925ca98ed"
      },
      "outputs": [
        {
          "name": "stdout",
          "output_type": "stream",
          "text": [
            "Requirement already satisfied: fasttext in /usr/local/lib/python3.10/dist-packages (0.9.3)\n",
            "Requirement already satisfied: pybind11>=2.2 in /usr/local/lib/python3.10/dist-packages (from fasttext) (2.13.6)\n",
            "Requirement already satisfied: setuptools>=0.7.0 in /usr/local/lib/python3.10/dist-packages (from fasttext) (75.1.0)\n",
            "Requirement already satisfied: numpy in /usr/local/lib/python3.10/dist-packages (from fasttext) (1.26.4)\n"
          ]
        }
      ],
      "source": [
        "!pip install fasttext"
      ]
    },
    {
      "cell_type": "code",
      "execution_count": null,
      "metadata": {
        "id": "gwhF51Sf3rON"
      },
      "outputs": [],
      "source": [
        "import fasttext\n",
        "import fasttext.util\n",
        "import gc"
      ]
    },
    {
      "cell_type": "code",
      "execution_count": null,
      "metadata": {
        "colab": {
          "base_uri": "https://localhost:8080/"
        },
        "id": "HKK4vtsBENCs",
        "outputId": "fbdade35-1b7e-4ddd-a7c7-e3d7b9f4f0b2"
      },
      "outputs": [
        {
          "name": "stdout",
          "output_type": "stream",
          "text": [
            "Drive already mounted at /content/drive; to attempt to forcibly remount, call drive.mount(\"/content/drive\", force_remount=True).\n"
          ]
        }
      ],
      "source": [
        "from google.colab import drive\n",
        "drive.mount('/content/drive')"
      ]
    },
    {
      "cell_type": "code",
      "execution_count": null,
      "metadata": {
        "id": "jHw3ulcITn4m"
      },
      "outputs": [],
      "source": [
        "muse_path='/content/drive/MyDrive/sarvam_project/word_translation.txt'"
      ]
    },
    {
      "cell_type": "code",
      "execution_count": null,
      "metadata": {
        "colab": {
          "base_uri": "https://localhost:8080/"
        },
        "id": "ajfYho6ClX0j",
        "outputId": "57841169-aeb8-477f-cabb-b30522237900"
      },
      "outputs": [
        {
          "data": {
            "text/plain": [
              "47"
            ]
          },
          "execution_count": 5,
          "metadata": {},
          "output_type": "execute_result"
        }
      ],
      "source": [
        "# Load FastText models\n",
        "model_en = fasttext.load_model('/content/drive/MyDrive/sarvam_project/cc.en.300.bin')\n",
        "all_en_matrix=[model_en.get_word_vector(word) for word in model_en.words[:1000000]]\n",
        "all_en_matrix2=[model_en.get_word_vector(word) for word in model_en.words[1000000:]]\n",
        "all_en_matrix.extend(all_en_matrix2)\n",
        "del model_en\n",
        "gc.collect()\n"
      ]
    },
    {
      "cell_type": "code",
      "execution_count": null,
      "metadata": {
        "colab": {
          "base_uri": "https://localhost:8080/"
        },
        "id": "qC8kFiqzCv15",
        "outputId": "addb01df-8504-472b-8792-630e8665d818"
      },
      "outputs": [
        {
          "data": {
            "text/plain": [
              "0"
            ]
          },
          "execution_count": 6,
          "metadata": {},
          "output_type": "execute_result"
        }
      ],
      "source": [
        "import numpy as np\n",
        "np.save('/content/drive/MyDrive/sarvam_project/all_en_matrix.npy',np.array(all_en_matrix))\n",
        "del all_en_matrix\n",
        "gc.collect()"
      ]
    },
    {
      "cell_type": "code",
      "execution_count": null,
      "metadata": {
        "id": "amzp2ZeJ2SiE"
      },
      "outputs": [],
      "source": [
        "# Load FastText models\n",
        "model_hi = fasttext.load_model('/content/drive/MyDrive/sarvam_project/cc.hi.300.bin')\n",
        "all_hin_matrix=[model_hi.get_word_vector(word) for word in model_hi.words[:1000000]]\n",
        "\n"
      ]
    },
    {
      "cell_type": "code",
      "execution_count": null,
      "metadata": {
        "id": "geQ3SZiqAj4F"
      },
      "outputs": [],
      "source": [
        "all_hin_matrix2=[model_hi.get_word_vector(word) for word in model_hi.words[1000000:]]"
      ]
    },
    {
      "cell_type": "code",
      "execution_count": null,
      "metadata": {
        "id": "AMVbn9-FA1BB"
      },
      "outputs": [],
      "source": [
        "all_hin_matrix.extend(all_hin_matrix2)"
      ]
    },
    {
      "cell_type": "code",
      "execution_count": null,
      "metadata": {
        "colab": {
          "base_uri": "https://localhost:8080/"
        },
        "id": "zWKcRx9iA5oA",
        "outputId": "e9e333d8-a61e-4cb3-c60b-d10f6c7b8b05"
      },
      "outputs": [
        {
          "data": {
            "text/plain": [
              "300"
            ]
          },
          "execution_count": 10,
          "metadata": {},
          "output_type": "execute_result"
        }
      ],
      "source": [
        "len(all_hin_matrix[0])"
      ]
    },
    {
      "cell_type": "code",
      "execution_count": null,
      "metadata": {
        "colab": {
          "base_uri": "https://localhost:8080/"
        },
        "id": "XA8dtubo_f-Q",
        "outputId": "cb6fc693-3ca0-4576-8cfa-5201f2a45e3c"
      },
      "outputs": [
        {
          "data": {
            "text/plain": [
              "0"
            ]
          },
          "execution_count": 11,
          "metadata": {},
          "output_type": "execute_result"
        }
      ],
      "source": [
        "\n",
        "\n",
        "del model_hi\n",
        "gc.collect()"
      ]
    },
    {
      "cell_type": "code",
      "execution_count": null,
      "metadata": {
        "colab": {
          "base_uri": "https://localhost:8080/"
        },
        "id": "FYKTbGvuHMEH",
        "outputId": "a334319e-cdce-49e9-ea14-5eab222dd76e"
      },
      "outputs": [
        {
          "data": {
            "text/plain": [
              "0"
            ]
          },
          "execution_count": 12,
          "metadata": {},
          "output_type": "execute_result"
        }
      ],
      "source": [
        "np.save('/content/drive/MyDrive/sarvam_project/all_hni_matrix.npy',np.array(all_hin_matrix))\n",
        "del all_hin_matrix\n",
        "gc.collect()"
      ]
    },
    {
      "cell_type": "markdown",
      "metadata": {
        "id": "SYITM5DngSZw"
      },
      "source": []
    },
    {
      "cell_type": "code",
      "execution_count": null,
      "metadata": {
        "colab": {
          "base_uri": "https://localhost:8080/"
        },
        "id": "egXzFd4uhETE",
        "outputId": "a78e6c34-05fa-4852-d3f7-fa2f7a962dff"
      },
      "outputs": [
        {
          "name": "stdout",
          "output_type": "stream",
          "text": [
            "Detected encoding: utf-8\n",
            "File has been saved\n"
          ]
        }
      ],
      "source": [
        "import requests\n",
        "import chardet\n",
        "\n",
        "# URL of the text file\n",
        "url = 'https://dl.fbaipublicfiles.com/arrival/dictionaries/hi-en.0-5000.txt'\n",
        "\n",
        "# Fetch the content\n",
        "response = requests.get(url)\n",
        "\n",
        "# Check if the request was successful\n",
        "if response.status_code == 200:\n",
        "    # Detect the encoding of the content\n",
        "    detected_encoding = chardet.detect(response.content)['encoding']\n",
        "    print(f\"Detected encoding: {detected_encoding}\")\n",
        "\n",
        "    # Decode the content using the detected encoding\n",
        "    text_content = response.content.decode(detected_encoding)\n",
        "\n",
        "    # Store the content in a local text file with UTF-8 encoding\n",
        "    with open('/content/drive/MyDrive/sarvam_project/word_translation.txt', 'w', encoding='utf-8') as file:\n",
        "        file.write(text_content)\n",
        "\n",
        "    print(\"File has been saved\")\n",
        "else:\n",
        "    print(\"Failed to retrieve the file\")\n"
      ]
    },
    {
      "cell_type": "code",
      "execution_count": null,
      "metadata": {
        "id": "riynJkyutkDs"
      },
      "outputs": [],
      "source": [
        "# Load FastText models\n",
        "model_en = fasttext.load_model('/content/drive/MyDrive/sarvam_project/cc.en.300.bin')"
      ]
    },
    {
      "cell_type": "code",
      "execution_count": null,
      "metadata": {
        "id": "540s9CvOHZG2"
      },
      "outputs": [],
      "source": [
        "!touch /content/drive/MyDrive/sarvam_project/list_en_words.txt\n",
        "with open('/content/drive/MyDrive/sarvam_project/list_en_words.txt','w') as f:\n",
        "  for item in model_en.words:\n",
        "    f.write(f'{item}\\n')\n"
      ]
    },
    {
      "cell_type": "code",
      "execution_count": null,
      "metadata": {
        "id": "XSfpm8-EIbMW"
      },
      "outputs": [],
      "source": [
        "del model_en\n",
        "gc.collect()"
      ]
    },
    {
      "cell_type": "code",
      "execution_count": null,
      "metadata": {
        "colab": {
          "background_save": true
        },
        "id": "t-mcs_loIi8J"
      },
      "outputs": [],
      "source": [
        "model_hi = fasttext.load_model('/content/drive/MyDrive/sarvam_project/cc.hi.300.bin')"
      ]
    },
    {
      "cell_type": "code",
      "execution_count": null,
      "metadata": {
        "colab": {
          "background_save": true
        },
        "id": "SXw0APjiImim"
      },
      "outputs": [],
      "source": [
        "!touch /content/drive/MyDrive/sarvam_project/list_hi_words.txt\n",
        "with open('/content/drive/MyDrive/sarvam_project/list_hi_words.txt','w') as f:\n",
        "  for item in model_hi.words:\n",
        "    f.write(f'{item}\\n')"
      ]
    },
    {
      "cell_type": "code",
      "execution_count": null,
      "metadata": {
        "colab": {
          "background_save": true
        },
        "id": "72gY1HFXJCwF",
        "outputId": "e468bfd0-9c59-4bfa-ba6a-1e90a812d0d5"
      },
      "outputs": [
        {
          "data": {
            "text/plain": [
              "0"
            ]
          },
          "execution_count": 19,
          "metadata": {},
          "output_type": "execute_result"
        }
      ],
      "source": [
        "del model_hi\n",
        "gc.collect()"
      ]
    },
    {
      "cell_type": "code",
      "execution_count": null,
      "metadata": {
        "colab": {
          "background_save": true
        },
        "id": "rb0iWlbDw0SX"
      },
      "outputs": [],
      "source": [
        "\n",
        "\n",
        "with open('/content/drive/MyDrive/sarvam_project/list_en_words.txt') as f:\n",
        "    list_en_words = [line.strip() for line in f.readlines()]\n",
        "with open('/content/drive/MyDrive/sarvam_project/list_hi_words.txt') as f:\n",
        "    list_hi_words = [line.strip() for line in f.readlines()]\n",
        "\n"
      ]
    },
    {
      "cell_type": "code",
      "execution_count": null,
      "metadata": {
        "colab": {
          "background_save": true
        },
        "id": "lckwtNLxRrAd",
        "outputId": "e1d40def-3a71-4e50-cb93-c24460873e4a"
      },
      "outputs": [
        {
          "data": {
            "text/plain": [
              "str"
            ]
          },
          "execution_count": 21,
          "metadata": {},
          "output_type": "execute_result"
        }
      ],
      "source": [
        "type(list_hi_words[0])"
      ]
    },
    {
      "cell_type": "code",
      "execution_count": null,
      "metadata": {
        "colab": {
          "background_save": true
        },
        "id": "c1SCVmJUJsvW",
        "outputId": "99d5cbad-833b-43e2-d8b2-b737860d00d0"
      },
      "outputs": [
        {
          "name": "stdout",
          "output_type": "stream",
          "text": [
            "0\n",
            "500\n",
            "1000\n",
            "1500\n",
            "2000\n",
            "2500\n",
            "3000\n",
            "3500\n",
            "4000\n",
            "4500\n",
            "5000\n",
            "5500\n",
            "6000\n",
            "6500\n",
            "7000\n",
            "7500\n",
            "8000\n"
          ]
        }
      ],
      "source": [
        "!touch /content/drive/MyDrive/sarvam_project/trunc_lexicons.txt\n",
        "word_pairs=[]\n",
        "# Load bilingual lexicon\n",
        "with open('/content/drive/MyDrive/sarvam_project/word_translation.txt') as f:\n",
        "  i=0\n",
        "  for line in f.readlines():\n",
        "    x,y=line.strip().split()\n",
        "    if(i%500==0):\n",
        "      print(i)\n",
        "    i+=1\n",
        "    if x in list_hi_words and y in list_en_words:\n",
        "      word_pairs.append([x,y])\n",
        "\n",
        "\n"
      ]
    },
    {
      "cell_type": "code",
      "execution_count": null,
      "metadata": {
        "colab": {
          "background_save": true
        },
        "id": "FUhiYKQQRk4P",
        "outputId": "f8a73250-e86d-4cba-acc6-46967a44d74b"
      },
      "outputs": [
        {
          "name": "stdout",
          "output_type": "stream",
          "text": [
            "7910\n"
          ]
        }
      ],
      "source": [
        "print(len(word_pairs))"
      ]
    },
    {
      "cell_type": "code",
      "execution_count": null,
      "metadata": {
        "colab": {
          "background_save": true
        },
        "id": "pXghc6QfRVm9"
      },
      "outputs": [],
      "source": [
        "with open(\"/content/drive/MyDrive/sarvam_project/trunc_lexicons.txt\",\"w\") as f:\n",
        "  for pair in word_pairs:\n",
        "    f.write(f\"{pair[0]} {pair[1]}\\n\")"
      ]
    },
    {
      "cell_type": "code",
      "execution_count": null,
      "metadata": {
        "id": "Trg2yj-QT1On"
      },
      "outputs": [],
      "source": [
        "# Load FastText models\n",
        "model_en = fasttext.load_model('/content/drive/MyDrive/sarvam_project/cc.en.300.bin')"
      ]
    },
    {
      "cell_type": "code",
      "execution_count": null,
      "metadata": {
        "id": "rMWOjXVi6c20"
      },
      "outputs": [],
      "source": [
        "\n",
        "en_embeddings = [model_en.get_word_vector(pair[1]) for pair in word_pairs]\n",
        "del model_en\n",
        "gc.collect()\n",
        "\n"
      ]
    },
    {
      "cell_type": "code",
      "execution_count": null,
      "metadata": {
        "id": "31elVJHmUi25"
      },
      "outputs": [],
      "source": [
        "model_hi = fasttext.load_model('/content/drive/MyDrive/sarvam_project/cc.hi.300.bin')"
      ]
    },
    {
      "cell_type": "code",
      "execution_count": null,
      "metadata": {
        "id": "-oSCCUx05_uF"
      },
      "outputs": [],
      "source": [
        "\n",
        "hi_embeddings = [model_hi.get_word_vector(pair[0]) for pair in word_pairs]\n",
        "del model_hi\n",
        "gc.collect()\n",
        "\n"
      ]
    },
    {
      "cell_type": "code",
      "execution_count": null,
      "metadata": {
        "id": "VX86ustXoHjb"
      },
      "outputs": [],
      "source": [
        "print(len(hi_embeddings[0]))"
      ]
    },
    {
      "cell_type": "code",
      "execution_count": null,
      "metadata": {
        "id": "V-kWtK3v7hgT"
      },
      "outputs": [],
      "source": [
        "import numpy as np\n",
        "from sklearn.utils.extmath import randomized_svd\n",
        "\n",
        "# Convert lists to numpy arrays\n",
        "en_matrix = np.array(en_embeddings)\n",
        "hi_matrix = np.array(hi_embeddings)\n",
        "print(en_matrix.shape)\n",
        "print(hi_matrix.shape)\n",
        "# Procrustes alignment\n",
        "def orthogonal_procrustes(X, Y):\n",
        "    U, _, Vt = np.linalg.svd(np.dot(X.T, Y))\n",
        "    return np.dot(U, Vt)\n",
        "\n",
        "# Find optimal orthogonal transformation matrix\n",
        "W = orthogonal_procrustes(en_matrix, hi_matrix)\n",
        "\n",
        "\n"
      ]
    },
    {
      "cell_type": "code",
      "execution_count": null,
      "metadata": {
        "id": "xMNBhRB2mkEu"
      },
      "outputs": [],
      "source": [
        "all_en_matrix=np.load('/content/drive/MyDrive/sarvam_project/all_en_matrix.npy')\n",
        "# Map English embeddings to Hindi space\n",
        "en_aligned = np.dot(all_en_matrix, W)"
      ]
    },
    {
      "cell_type": "code",
      "execution_count": null,
      "metadata": {
        "id": "mAdHMqAkZPyf"
      },
      "outputs": [],
      "source": [
        "print((en_aligned).shape)\n",
        "print(hi_matrix.shape)\n"
      ]
    },
    {
      "cell_type": "code",
      "execution_count": null,
      "metadata": {
        "id": "9JZ-uwK3jvNd"
      },
      "outputs": [],
      "source": [
        "del all_en_matrix\n",
        "gc.collect()"
      ]
    },
    {
      "cell_type": "markdown",
      "metadata": {
        "id": "rKrCniPCF23m"
      },
      "source": []
    },
    {
      "cell_type": "code",
      "execution_count": null,
      "metadata": {
        "id": "gFp0WC947h-Z"
      },
      "outputs": [],
      "source": [
        "# from sklearn.metrics.pairwise import cosine_similarity\n",
        "# import numpy as np\n",
        "\n",
        "# # Function to find the nearest neighbor based on cosine similarity\n",
        "# def find_nearest_neighbor(embedding, target_matrix):\n",
        "#     similarities = cosine_similarity([embedding], target_matrix)[0]\n",
        "#     nearest_neighbor_idx = np.argmax(similarities)\n",
        "#     return nearest_neighbor_idx, similarities[nearest_neighbor_idx]\n",
        "\n",
        "# # Verify alignment quality by comparing aligned English words with Hindi translations\n",
        "# correct_matches = 0\n",
        "# total_pairs = hi_matrix.shape[0]\n",
        "\n",
        "# for i in range(total_pairs):\n",
        "#     index_find=list_en_words.index(word_pairs[i][1])\n",
        "#     aligned_embedding = en_aligned[index_find]\n",
        "#     expected_hindi_embedding = hi_matrix[i]\n",
        "#     #print(aligned_embedding.shape,expected_hindi_embedding.shape)\n",
        "\n",
        "#     # Find the nearest neighbor for the aligned English word in the Hindi embedding space\n",
        "#     nearest_neighbor_idx, similarity_score = find_nearest_neighbor(aligned_embedding, hi_matrix)\n",
        "\n",
        "#     # Compare the found nearest neighbor with the expected Hindi word\n",
        "#     if (nearest_neighbor_idx==i):\n",
        "#         correct_matches += 1\n",
        "\n",
        "# # Compute accuracy\n",
        "# accuracy = correct_matches / total_pairs\n",
        "# print(f\"Alignment Accuracy while training: {accuracy * 100:.2f}%\")\n"
      ]
    },
    {
      "cell_type": "code",
      "execution_count": null,
      "metadata": {
        "id": "r-xRG70g1xLG"
      },
      "outputs": [],
      "source": [
        "with open('/content/drive/MyDrive/sarvam_project/word_translation_test.txt') as f:\n",
        "    test_word_pairs = [line.strip().split() for line in f.readlines()]"
      ]
    },
    {
      "cell_type": "code",
      "execution_count": null,
      "metadata": {
        "id": "FedNVEYEkktL"
      },
      "outputs": [],
      "source": [
        "all_hi_matrix=np.load('/content/drive/MyDrive/sarvam_project/all_hni_matrix.npy')"
      ]
    },
    {
      "cell_type": "code",
      "execution_count": null,
      "metadata": {
        "id": "FpdtCEIF1mpX"
      },
      "outputs": [],
      "source": [
        "import numpy as np\n",
        "import faiss  # Facebook's ANN library for efficient similarity search\n",
        "\n",
        "# Preprocess: Build an FAISS index for the Hindi matrix\n",
        "d = all_hi_matrix.shape[1]  # Dimensionality of the embeddings\n",
        "index = faiss.IndexFlatIP(d)  # Inner Product (for cosine similarity) index\n",
        "faiss.normalize_L2(all_hi_matrix)  # Normalize vectors for cosine similarity\n",
        "index.add(all_hi_matrix)  # Add the Hindi embeddings to the index\n",
        "\n",
        "correct_matches_at_5 = 0\n",
        "valid_pairs = [\n",
        "    pair for pair in test_word_pairs\n",
        "    if pair[1] in list_en_words and pair[0] in list_hi_words\n",
        "]\n",
        "\n",
        "for pair in valid_pairs:\n",
        "    en_word, hi_word = pair[1], pair[0]\n",
        "    en_idx = list_en_words.index(en_word)\n",
        "    hi_idx = list_hi_words.index(hi_word)\n",
        "\n",
        "    # Normalize the aligned embedding for cosine similarity\n",
        "    aligned_embedding = en_aligned[en_idx].reshape(1, -1)\n",
        "    faiss.normalize_L2(aligned_embedding)\n",
        "\n",
        "    # Search for the k nearest neighbors\n",
        "    _, nearest_neighbors_idx = index.search(aligned_embedding, 5)\n",
        "\n",
        "    # Check if the expected Hindi index is among the neighbors\n",
        "    if hi_idx in nearest_neighbors_idx[0]:\n",
        "        correct_matches_at_5 += 1\n",
        "\n",
        "# Calculate precision@k\n",
        "precision_at_5 = correct_matches_at_5 / len(valid_pairs)\n",
        "print(f\"Precision@k (5): {precision_at_5 * 100:.2f}%\")\n"
      ]
    },
    {
      "cell_type": "code",
      "execution_count": null,
      "metadata": {
        "id": "7zlRWB-G1_MW"
      },
      "outputs": [],
      "source": [
        "\n",
        "del all_hi_matrix\n",
        "gc.collect()"
      ]
    },
    {
      "cell_type": "code",
      "execution_count": null,
      "metadata": {
        "id": "7Igsi_DL-zlX"
      },
      "outputs": [],
      "source": []
    }
  ],
  "metadata": {
    "colab": {
      "provenance": []
    },
    "kernelspec": {
      "display_name": "Python 3",
      "name": "python3"
    },
    "language_info": {
      "name": "python"
    }
  },
  "nbformat": 4,
  "nbformat_minor": 0
}